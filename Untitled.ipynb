{
 "cells": [
  {
   "cell_type": "code",
   "execution_count": 38,
   "metadata": {},
   "outputs": [
    {
     "name": "stdout",
     "output_type": "stream",
     "text": [
      "1\n",
      "10\n",
      "5\n"
     ]
    }
   ],
   "source": [
    "for _ in range(int(input().strip())):\n",
    "    n = int(input().strip())\n",
    "    for i in range(n, int(n**(1/2)), -1):\n",
    "        if ( n%i ) == 0:\n",
    "            for j in range(2, int(i**(1/2))):\n",
    "                if (i % j) == 0:\n",
    "                    break;\n",
    "            else:\n",
    "                print(i)  "
   ]
  },
  {
   "cell_type": "code",
   "execution_count": null,
   "metadata": {},
   "outputs": [],
   "source": []
  }
 ],
 "metadata": {
  "kernelspec": {
   "display_name": "Python 3",
   "language": "python",
   "name": "python3"
  },
  "language_info": {
   "codemirror_mode": {
    "name": "ipython",
    "version": 3
   },
   "file_extension": ".py",
   "mimetype": "text/x-python",
   "name": "python",
   "nbconvert_exporter": "python",
   "pygments_lexer": "ipython3",
   "version": "3.7.6"
  }
 },
 "nbformat": 4,
 "nbformat_minor": 4
}
